{
 "cells": [
  {
   "metadata": {
    "ExecuteTime": {
     "end_time": "2025-08-09T22:07:38.560025Z",
     "start_time": "2025-08-09T22:07:21.918768Z"
    }
   },
   "cell_type": "code",
   "source": "!pip install -r requirements.txt",
   "id": "fbc121e30a2defb3",
   "outputs": [
    {
     "name": "stdout",
     "output_type": "stream",
     "text": [
      "Requirement already satisfied: numpy in ./.venv/lib/python3.13/site-packages (from -r requirements.txt (line 1)) (2.3.2)\r\n",
      "Requirement already satisfied: tqdm in ./.venv/lib/python3.13/site-packages (from -r requirements.txt (line 2)) (4.67.1)\r\n",
      "Collecting scanpy (from -r requirements.txt (line 3))\r\n",
      "  Using cached scanpy-1.11.4-py3-none-any.whl.metadata (9.2 kB)\r\n",
      "Collecting anndata>=0.8 (from scanpy->-r requirements.txt (line 3))\r\n",
      "  Using cached anndata-0.12.1-py3-none-any.whl.metadata (9.6 kB)\r\n",
      "Collecting h5py>=3.7.0 (from scanpy->-r requirements.txt (line 3))\r\n",
      "  Using cached h5py-3.14.0-cp313-cp313-macosx_11_0_arm64.whl.metadata (2.7 kB)\r\n",
      "Collecting joblib (from scanpy->-r requirements.txt (line 3))\r\n",
      "  Using cached joblib-1.5.1-py3-none-any.whl.metadata (5.6 kB)\r\n",
      "Collecting legacy-api-wrap>=1.4.1 (from scanpy->-r requirements.txt (line 3))\r\n",
      "  Using cached legacy_api_wrap-1.4.1-py3-none-any.whl.metadata (2.1 kB)\r\n",
      "Requirement already satisfied: matplotlib>=3.7.5 in ./.venv/lib/python3.13/site-packages (from scanpy->-r requirements.txt (line 3)) (3.10.5)\r\n",
      "Collecting natsort (from scanpy->-r requirements.txt (line 3))\r\n",
      "  Using cached natsort-8.4.0-py3-none-any.whl.metadata (21 kB)\r\n",
      "Collecting networkx>=2.7.1 (from scanpy->-r requirements.txt (line 3))\r\n",
      "  Using cached networkx-3.5-py3-none-any.whl.metadata (6.3 kB)\r\n",
      "Collecting numba>=0.57.1 (from scanpy->-r requirements.txt (line 3))\r\n",
      "  Using cached numba-0.61.2-cp313-cp313-macosx_11_0_arm64.whl.metadata (2.7 kB)\r\n",
      "Requirement already satisfied: packaging>=21.3 in ./.venv/lib/python3.13/site-packages (from scanpy->-r requirements.txt (line 3)) (25.0)\r\n",
      "Requirement already satisfied: pandas>=1.5.3 in ./.venv/lib/python3.13/site-packages (from scanpy->-r requirements.txt (line 3)) (2.3.1)\r\n",
      "Collecting patsy!=1.0.0 (from scanpy->-r requirements.txt (line 3))\r\n",
      "  Using cached patsy-1.0.1-py2.py3-none-any.whl.metadata (3.3 kB)\r\n",
      "Collecting pynndescent>=0.5.13 (from scanpy->-r requirements.txt (line 3))\r\n",
      "  Using cached pynndescent-0.5.13-py3-none-any.whl.metadata (6.8 kB)\r\n",
      "Collecting scikit-learn>=1.1.3 (from scanpy->-r requirements.txt (line 3))\r\n",
      "  Using cached scikit_learn-1.7.1-cp313-cp313-macosx_12_0_arm64.whl.metadata (11 kB)\r\n",
      "Collecting scipy>=1.8.1 (from scanpy->-r requirements.txt (line 3))\r\n",
      "  Using cached scipy-1.16.1-cp313-cp313-macosx_14_0_arm64.whl.metadata (61 kB)\r\n",
      "Collecting seaborn>=0.13.2 (from scanpy->-r requirements.txt (line 3))\r\n",
      "  Using cached seaborn-0.13.2-py3-none-any.whl.metadata (5.4 kB)\r\n",
      "Collecting session-info2 (from scanpy->-r requirements.txt (line 3))\r\n",
      "  Using cached session_info2-0.2-py3-none-any.whl.metadata (3.3 kB)\r\n",
      "Collecting statsmodels>=0.14.5 (from scanpy->-r requirements.txt (line 3))\r\n",
      "  Using cached statsmodels-0.14.5-cp313-cp313-macosx_11_0_arm64.whl.metadata (9.5 kB)\r\n",
      "Collecting umap-learn>=0.5.6 (from scanpy->-r requirements.txt (line 3))\r\n",
      "  Using cached umap_learn-0.5.9.post2-py3-none-any.whl.metadata (25 kB)\r\n",
      "Collecting array-api-compat>=1.7.1 (from anndata>=0.8->scanpy->-r requirements.txt (line 3))\r\n",
      "  Using cached array_api_compat-1.12.0-py3-none-any.whl.metadata (2.5 kB)\r\n",
      "Collecting zarr!=3.0.*,>=2.18.7 (from anndata>=0.8->scanpy->-r requirements.txt (line 3))\r\n",
      "  Using cached zarr-3.1.1-py3-none-any.whl.metadata (10 kB)\r\n",
      "Requirement already satisfied: contourpy>=1.0.1 in ./.venv/lib/python3.13/site-packages (from matplotlib>=3.7.5->scanpy->-r requirements.txt (line 3)) (1.3.3)\r\n",
      "Requirement already satisfied: cycler>=0.10 in ./.venv/lib/python3.13/site-packages (from matplotlib>=3.7.5->scanpy->-r requirements.txt (line 3)) (0.12.1)\r\n",
      "Requirement already satisfied: fonttools>=4.22.0 in ./.venv/lib/python3.13/site-packages (from matplotlib>=3.7.5->scanpy->-r requirements.txt (line 3)) (4.59.0)\r\n",
      "Requirement already satisfied: kiwisolver>=1.3.1 in ./.venv/lib/python3.13/site-packages (from matplotlib>=3.7.5->scanpy->-r requirements.txt (line 3)) (1.4.8)\r\n",
      "Requirement already satisfied: pillow>=8 in ./.venv/lib/python3.13/site-packages (from matplotlib>=3.7.5->scanpy->-r requirements.txt (line 3)) (11.3.0)\r\n",
      "Requirement already satisfied: pyparsing>=2.3.1 in ./.venv/lib/python3.13/site-packages (from matplotlib>=3.7.5->scanpy->-r requirements.txt (line 3)) (3.2.3)\r\n",
      "Requirement already satisfied: python-dateutil>=2.7 in ./.venv/lib/python3.13/site-packages (from matplotlib>=3.7.5->scanpy->-r requirements.txt (line 3)) (2.9.0.post0)\r\n",
      "Collecting llvmlite<0.45,>=0.44.0dev0 (from numba>=0.57.1->scanpy->-r requirements.txt (line 3))\r\n",
      "  Using cached llvmlite-0.44.0-cp313-cp313-macosx_11_0_arm64.whl.metadata (4.8 kB)\r\n",
      "Collecting numpy (from -r requirements.txt (line 1))\r\n",
      "  Using cached numpy-2.2.6-cp313-cp313-macosx_14_0_arm64.whl.metadata (62 kB)\r\n",
      "Requirement already satisfied: pytz>=2020.1 in ./.venv/lib/python3.13/site-packages (from pandas>=1.5.3->scanpy->-r requirements.txt (line 3)) (2025.2)\r\n",
      "Requirement already satisfied: tzdata>=2022.7 in ./.venv/lib/python3.13/site-packages (from pandas>=1.5.3->scanpy->-r requirements.txt (line 3)) (2025.2)\r\n",
      "Collecting threadpoolctl>=3.1.0 (from scikit-learn>=1.1.3->scanpy->-r requirements.txt (line 3))\r\n",
      "  Using cached threadpoolctl-3.6.0-py3-none-any.whl.metadata (13 kB)\r\n",
      "Requirement already satisfied: six>=1.5 in ./.venv/lib/python3.13/site-packages (from python-dateutil>=2.7->matplotlib>=3.7.5->scanpy->-r requirements.txt (line 3)) (1.17.0)\r\n",
      "Collecting donfig>=0.8 (from zarr!=3.0.*,>=2.18.7->anndata>=0.8->scanpy->-r requirements.txt (line 3))\r\n",
      "  Using cached donfig-0.8.1.post1-py3-none-any.whl.metadata (5.0 kB)\r\n",
      "Collecting numcodecs>=0.14 (from numcodecs[crc32c]>=0.14->zarr!=3.0.*,>=2.18.7->anndata>=0.8->scanpy->-r requirements.txt (line 3))\r\n",
      "  Using cached numcodecs-0.16.1-cp313-cp313-macosx_11_0_arm64.whl.metadata (3.3 kB)\r\n",
      "Requirement already satisfied: typing-extensions>=4.9 in ./.venv/lib/python3.13/site-packages (from zarr!=3.0.*,>=2.18.7->anndata>=0.8->scanpy->-r requirements.txt (line 3)) (4.14.1)\r\n",
      "Requirement already satisfied: pyyaml in ./.venv/lib/python3.13/site-packages (from donfig>=0.8->zarr!=3.0.*,>=2.18.7->anndata>=0.8->scanpy->-r requirements.txt (line 3)) (6.0.2)\r\n",
      "Collecting crc32c>=2.7 (from numcodecs[crc32c]>=0.14->zarr!=3.0.*,>=2.18.7->anndata>=0.8->scanpy->-r requirements.txt (line 3))\r\n",
      "  Using cached crc32c-2.7.1-cp313-cp313-macosx_11_0_arm64.whl.metadata (7.3 kB)\r\n",
      "Using cached scanpy-1.11.4-py3-none-any.whl (2.1 MB)\r\n",
      "Using cached anndata-0.12.1-py3-none-any.whl (169 kB)\r\n",
      "Using cached h5py-3.14.0-cp313-cp313-macosx_11_0_arm64.whl (2.8 MB)\r\n",
      "Using cached legacy_api_wrap-1.4.1-py3-none-any.whl (10.0 kB)\r\n",
      "Using cached networkx-3.5-py3-none-any.whl (2.0 MB)\r\n",
      "Using cached numba-0.61.2-cp313-cp313-macosx_11_0_arm64.whl (2.8 MB)\r\n",
      "Using cached numpy-2.2.6-cp313-cp313-macosx_14_0_arm64.whl (5.1 MB)\r\n",
      "Using cached patsy-1.0.1-py2.py3-none-any.whl (232 kB)\r\n",
      "Using cached pynndescent-0.5.13-py3-none-any.whl (56 kB)\r\n",
      "Using cached joblib-1.5.1-py3-none-any.whl (307 kB)\r\n",
      "Using cached scikit_learn-1.7.1-cp313-cp313-macosx_12_0_arm64.whl (8.6 MB)\r\n",
      "Using cached scipy-1.16.1-cp313-cp313-macosx_14_0_arm64.whl (20.8 MB)\r\n",
      "Using cached seaborn-0.13.2-py3-none-any.whl (294 kB)\r\n",
      "Using cached statsmodels-0.14.5-cp313-cp313-macosx_11_0_arm64.whl (9.7 MB)\r\n",
      "Using cached umap_learn-0.5.9.post2-py3-none-any.whl (90 kB)\r\n",
      "Using cached natsort-8.4.0-py3-none-any.whl (38 kB)\r\n",
      "Using cached session_info2-0.2-py3-none-any.whl (15 kB)\r\n",
      "Using cached array_api_compat-1.12.0-py3-none-any.whl (58 kB)\r\n",
      "Using cached llvmlite-0.44.0-cp313-cp313-macosx_11_0_arm64.whl (26.2 MB)\r\n",
      "Using cached threadpoolctl-3.6.0-py3-none-any.whl (18 kB)\r\n",
      "Using cached zarr-3.1.1-py3-none-any.whl (255 kB)\r\n",
      "Using cached donfig-0.8.1.post1-py3-none-any.whl (21 kB)\r\n",
      "Using cached numcodecs-0.16.1-cp313-cp313-macosx_11_0_arm64.whl (1.1 MB)\r\n",
      "Using cached crc32c-2.7.1-cp313-cp313-macosx_11_0_arm64.whl (35 kB)\r\n",
      "Installing collected packages: threadpoolctl, session-info2, numpy, networkx, natsort, llvmlite, legacy-api-wrap, joblib, donfig, crc32c, array-api-compat, scipy, patsy, numcodecs, numba, h5py, statsmodels, scikit-learn, zarr, seaborn, pynndescent, umap-learn, anndata, scanpy\r\n",
      "  Attempting uninstall: numpy\r\n",
      "    Found existing installation: numpy 2.3.2\r\n",
      "    Uninstalling numpy-2.3.2:\r\n",
      "      Successfully uninstalled numpy-2.3.2\r\n",
      "Successfully installed anndata-0.12.1 array-api-compat-1.12.0 crc32c-2.7.1 donfig-0.8.1.post1 h5py-3.14.0 joblib-1.5.1 legacy-api-wrap-1.4.1 llvmlite-0.44.0 natsort-8.4.0 networkx-3.5 numba-0.61.2 numcodecs-0.16.1 numpy-2.2.6 patsy-1.0.1 pynndescent-0.5.13 scanpy-1.11.4 scikit-learn-1.7.1 scipy-1.16.1 seaborn-0.13.2 session-info2-0.2 statsmodels-0.14.5 threadpoolctl-3.6.0 umap-learn-0.5.9.post2 zarr-3.1.1\r\n",
      "\r\n",
      "\u001B[1m[\u001B[0m\u001B[34;49mnotice\u001B[0m\u001B[1;39;49m]\u001B[0m\u001B[39;49m A new release of pip is available: \u001B[0m\u001B[31;49m24.3.1\u001B[0m\u001B[39;49m -> \u001B[0m\u001B[32;49m25.2\u001B[0m\r\n",
      "\u001B[1m[\u001B[0m\u001B[34;49mnotice\u001B[0m\u001B[1;39;49m]\u001B[0m\u001B[39;49m To update, run: \u001B[0m\u001B[32;49mpip install --upgrade pip\u001B[0m\r\n"
     ]
    }
   ],
   "execution_count": 14
  },
  {
   "metadata": {
    "ExecuteTime": {
     "end_time": "2025-08-09T22:06:13.454446Z",
     "start_time": "2025-08-09T22:00:03.713327Z"
    }
   },
   "cell_type": "code",
   "source": [
    "import requests\n",
    "from tqdm import tqdm\n",
    "import os\n",
    "\n",
    "# File URL and save location\n",
    "url = \"https://datasets.cellxgene.cziscience.com/d25acbe9-9804-48ba-9e40-10beee03eb25.h5ad\"\n",
    "save_dir = \"data/\"\n",
    "filename = \"dataset.h5ad\"\n",
    "\n",
    "# Make sure the directory exists\n",
    "os.makedirs(save_dir, exist_ok=True)\n",
    "filepath = os.path.join(save_dir, filename)\n",
    "\n",
    "# Stream download\n",
    "response = requests.get(url, stream=True)\n",
    "response.raise_for_status()\n",
    "\n",
    "# Total size in bytes\n",
    "total_size = int(response.headers.get(\"Content-Length\", 0))\n",
    "block_size = 1024  # 1 KB\n",
    "\n",
    "# Progress bar\n",
    "with open(filepath, \"wb\") as file, tqdm(\n",
    "    total=total_size, unit=\"B\", unit_scale=True, desc=filename\n",
    ") as progress_bar:\n",
    "    for data in response.iter_content(block_size):\n",
    "        file.write(data)\n",
    "        progress_bar.update(len(data))\n",
    "\n",
    "print(f\"Download complete: {filepath}\")"
   ],
   "id": "12721c45838ca528",
   "outputs": [
    {
     "name": "stderr",
     "output_type": "stream",
     "text": [
      "dataset.h5ad: 100%|██████████| 6.51G/6.51G [06:08<00:00, 17.6MB/s]  \n"
     ]
    },
    {
     "name": "stdout",
     "output_type": "stream",
     "text": [
      "Download complete: data/dataset.h5ad\n"
     ]
    }
   ],
   "execution_count": 13
  },
  {
   "metadata": {
    "ExecuteTime": {
     "end_time": "2025-08-09T22:12:06.754631Z",
     "start_time": "2025-08-09T22:10:18.303312Z"
    }
   },
   "cell_type": "code",
   "source": [
    "import scanpy as sc\n",
    "\n",
    "# Load the file\n",
    "adata = sc.read_h5ad(\"data/dataset.h5ad\")"
   ],
   "id": "8406aec359bb0840",
   "outputs": [],
   "execution_count": 16
  },
  {
   "metadata": {
    "ExecuteTime": {
     "end_time": "2025-08-09T22:27:54.158742Z",
     "start_time": "2025-08-09T22:27:54.080123Z"
    }
   },
   "cell_type": "code",
   "source": [
    "diseased = adata.obs[adata.obs[\"disease\"] == \"Alzheimer disease\"]\n",
    "normal = adata.obs[adata.obs[\"disease\"] != \"Alzheimer disease\"]\n",
    "diseased.shape[0], normal.shape[0]"
   ],
   "id": "52636aa063ff602c",
   "outputs": [
    {
     "data": {
      "text/plain": [
       "(310773, 113755)"
      ]
     },
     "execution_count": 56,
     "metadata": {},
     "output_type": "execute_result"
    }
   ],
   "execution_count": 56
  },
  {
   "metadata": {
    "ExecuteTime": {
     "end_time": "2025-08-09T22:31:08.113799Z",
     "start_time": "2025-08-09T22:31:08.088988Z"
    }
   },
   "cell_type": "code",
   "source": [
    "diseased_microglial = diseased[diseased[\"cell_type\"] == \"microglial cell\"]\n",
    "normal_microglial = normal[normal[\"cell_type\"] == \"microglial cell\"]\n",
    "\n",
    "diseased_microglial.shape[0], normal_microglial.shape[0]"
   ],
   "id": "9250ed6ac58aa877",
   "outputs": [
    {
     "data": {
      "text/plain": [
       "(4282, 789)"
      ]
     },
     "execution_count": 66,
     "metadata": {},
     "output_type": "execute_result"
    }
   ],
   "execution_count": 66
  },
  {
   "metadata": {
    "ExecuteTime": {
     "end_time": "2025-08-09T22:39:48.261471Z",
     "start_time": "2025-08-09T22:39:48.257954Z"
    }
   },
   "cell_type": "code",
   "source": [
    "diseased_names = list(diseased_microglial.index)\n",
    "normal_names = list(normal_microglial.index)"
   ],
   "id": "15adc5071c191250",
   "outputs": [],
   "execution_count": 97
  },
  {
   "metadata": {
    "ExecuteTime": {
     "end_time": "2025-08-09T22:39:48.883303Z",
     "start_time": "2025-08-09T22:39:48.878162Z"
    }
   },
   "cell_type": "code",
   "source": [
    "ids = adata.obs_names.get_indexer(diseased_names)\n",
    "normal_ids = adata.obs_names.get_indexer(normal_names)"
   ],
   "id": "828b59cfea4d88b2",
   "outputs": [],
   "execution_count": 98
  },
  {
   "metadata": {
    "ExecuteTime": {
     "end_time": "2025-08-09T22:40:17.653625Z",
     "start_time": "2025-08-09T22:40:17.329902Z"
    }
   },
   "cell_type": "code",
   "source": [
    "import pandas as pd\n",
    "diseased_df = pd.DataFrame(adata.X[ids].toarray(), columns = adata.var.feature_name)\n",
    "normal_df = pd.DataFrame(adata.X[normal_ids].toarray(), columns = adata.var.feature_name)"
   ],
   "id": "198d7ffdcb2f1de",
   "outputs": [],
   "execution_count": 102
  },
  {
   "metadata": {
    "ExecuteTime": {
     "end_time": "2025-08-09T22:40:48.928046Z",
     "start_time": "2025-08-09T22:40:48.460773Z"
    }
   },
   "cell_type": "code",
   "source": [
    "genes_mean_expression = diseased_df.mean(axis=0)\n",
    "normal_genes_mean_expression = normal_df.mean(axis=0)"
   ],
   "id": "eb6d749cc914b2a2",
   "outputs": [],
   "execution_count": 104
  },
  {
   "metadata": {
    "ExecuteTime": {
     "end_time": "2025-08-09T22:41:05.951697Z",
     "start_time": "2025-08-09T22:41:05.924944Z"
    }
   },
   "cell_type": "code",
   "source": [
    "expression_to_gene = {v:k for k, v in genes_mean_expression.items()}\n",
    "normal_expression_to_gene = {v:k for k, v in normal_genes_mean_expression.items()}"
   ],
   "id": "50caf27af6a7e182",
   "outputs": [],
   "execution_count": 105
  },
  {
   "metadata": {
    "ExecuteTime": {
     "end_time": "2025-08-09T22:42:43.377911Z",
     "start_time": "2025-08-09T22:42:43.370218Z"
    }
   },
   "cell_type": "code",
   "source": [
    "sorted_expression = sorted(expression_to_gene.keys(), reverse=True)\n",
    "for i in range(10):\n",
    "    print(f\"{i} most expressed gene:{expression_to_gene[sorted_expression[i]]}\")"
   ],
   "id": "f3548544a2a1e465",
   "outputs": [
    {
     "name": "stdout",
     "output_type": "stream",
     "text": [
      "0 most expressed gene:MALAT1\n",
      "1 most expressed gene:PLXDC2\n",
      "2 most expressed gene:DOCK4\n",
      "3 most expressed gene:LRMDA\n",
      "4 most expressed gene:FRMD4A\n",
      "5 most expressed gene:NEAT1\n",
      "6 most expressed gene:ARHGAP24\n",
      "7 most expressed gene:MEF2A\n",
      "8 most expressed gene:ELMO1\n",
      "9 most expressed gene:ST6GAL1\n"
     ]
    }
   ],
   "execution_count": 113
  },
  {
   "metadata": {
    "ExecuteTime": {
     "end_time": "2025-08-09T22:43:08.007388Z",
     "start_time": "2025-08-09T22:43:07.999770Z"
    }
   },
   "cell_type": "code",
   "source": [
    "normal_sorted_expression = sorted(normal_expression_to_gene.keys(), reverse=True)\n",
    "for i in range(10):\n",
    "    print(f\"{i} most expressed gene:{normal_expression_to_gene[normal_sorted_expression[i]]}\")"
   ],
   "id": "e70a7281a9a8db8b",
   "outputs": [
    {
     "name": "stdout",
     "output_type": "stream",
     "text": [
      "0 most expressed gene:MALAT1\n",
      "1 most expressed gene:PLXDC2\n",
      "2 most expressed gene:DOCK4\n",
      "3 most expressed gene:FRMD4A\n",
      "4 most expressed gene:LRMDA\n",
      "5 most expressed gene:NEAT1\n",
      "6 most expressed gene:ARHGAP24\n",
      "7 most expressed gene:SRGAP2\n",
      "8 most expressed gene:MEF2A\n",
      "9 most expressed gene:CHST11\n"
     ]
    }
   ],
   "execution_count": 114
  }
 ],
 "metadata": {
  "kernelspec": {
   "display_name": "Python 3",
   "language": "python",
   "name": "python3"
  },
  "language_info": {
   "codemirror_mode": {
    "name": "ipython",
    "version": 2
   },
   "file_extension": ".py",
   "mimetype": "text/x-python",
   "name": "python",
   "nbconvert_exporter": "python",
   "pygments_lexer": "ipython2",
   "version": "2.7.6"
  }
 },
 "nbformat": 4,
 "nbformat_minor": 5
}
