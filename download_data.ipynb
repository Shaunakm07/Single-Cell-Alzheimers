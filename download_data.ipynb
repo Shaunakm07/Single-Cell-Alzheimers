{
 "cells": [
  {
   "metadata": {
    "ExecuteTime": {
     "end_time": "2025-08-11T02:34:50.866131Z",
     "start_time": "2025-08-11T02:34:49.941838Z"
    }
   },
   "cell_type": "code",
   "source": "!pip install -r requirements.txt",
   "id": "fbc121e30a2defb3",
   "outputs": [
    {
     "name": "stdout",
     "output_type": "stream",
     "text": [
      "Requirement already satisfied: numpy in ./.venv/lib/python3.13/site-packages (from -r requirements.txt (line 1)) (2.2.6)\r\n",
      "Requirement already satisfied: tqdm in ./.venv/lib/python3.13/site-packages (from -r requirements.txt (line 2)) (4.67.1)\r\n",
      "Requirement already satisfied: scanpy in ./.venv/lib/python3.13/site-packages (from -r requirements.txt (line 3)) (1.11.4)\r\n",
      "Requirement already satisfied: anndata>=0.8 in ./.venv/lib/python3.13/site-packages (from scanpy->-r requirements.txt (line 3)) (0.12.1)\r\n",
      "Requirement already satisfied: h5py>=3.7.0 in ./.venv/lib/python3.13/site-packages (from scanpy->-r requirements.txt (line 3)) (3.14.0)\r\n",
      "Requirement already satisfied: joblib in ./.venv/lib/python3.13/site-packages (from scanpy->-r requirements.txt (line 3)) (1.5.1)\r\n",
      "Requirement already satisfied: legacy-api-wrap>=1.4.1 in ./.venv/lib/python3.13/site-packages (from scanpy->-r requirements.txt (line 3)) (1.4.1)\r\n",
      "Requirement already satisfied: matplotlib>=3.7.5 in ./.venv/lib/python3.13/site-packages (from scanpy->-r requirements.txt (line 3)) (3.10.5)\r\n",
      "Requirement already satisfied: natsort in ./.venv/lib/python3.13/site-packages (from scanpy->-r requirements.txt (line 3)) (8.4.0)\r\n",
      "Requirement already satisfied: networkx>=2.7.1 in ./.venv/lib/python3.13/site-packages (from scanpy->-r requirements.txt (line 3)) (3.5)\r\n",
      "Requirement already satisfied: numba>=0.57.1 in ./.venv/lib/python3.13/site-packages (from scanpy->-r requirements.txt (line 3)) (0.61.2)\r\n",
      "Requirement already satisfied: packaging>=21.3 in ./.venv/lib/python3.13/site-packages (from scanpy->-r requirements.txt (line 3)) (25.0)\r\n",
      "Requirement already satisfied: pandas>=1.5.3 in ./.venv/lib/python3.13/site-packages (from scanpy->-r requirements.txt (line 3)) (2.3.1)\r\n",
      "Requirement already satisfied: patsy!=1.0.0 in ./.venv/lib/python3.13/site-packages (from scanpy->-r requirements.txt (line 3)) (1.0.1)\r\n",
      "Requirement already satisfied: pynndescent>=0.5.13 in ./.venv/lib/python3.13/site-packages (from scanpy->-r requirements.txt (line 3)) (0.5.13)\r\n",
      "Requirement already satisfied: scikit-learn>=1.1.3 in ./.venv/lib/python3.13/site-packages (from scanpy->-r requirements.txt (line 3)) (1.7.1)\r\n",
      "Requirement already satisfied: scipy>=1.8.1 in ./.venv/lib/python3.13/site-packages (from scanpy->-r requirements.txt (line 3)) (1.16.1)\r\n",
      "Requirement already satisfied: seaborn>=0.13.2 in ./.venv/lib/python3.13/site-packages (from scanpy->-r requirements.txt (line 3)) (0.13.2)\r\n",
      "Requirement already satisfied: session-info2 in ./.venv/lib/python3.13/site-packages (from scanpy->-r requirements.txt (line 3)) (0.2)\r\n",
      "Requirement already satisfied: statsmodels>=0.14.5 in ./.venv/lib/python3.13/site-packages (from scanpy->-r requirements.txt (line 3)) (0.14.5)\r\n",
      "Requirement already satisfied: umap-learn>=0.5.6 in ./.venv/lib/python3.13/site-packages (from scanpy->-r requirements.txt (line 3)) (0.5.9.post2)\r\n",
      "Requirement already satisfied: array-api-compat>=1.7.1 in ./.venv/lib/python3.13/site-packages (from anndata>=0.8->scanpy->-r requirements.txt (line 3)) (1.12.0)\r\n",
      "Requirement already satisfied: zarr!=3.0.*,>=2.18.7 in ./.venv/lib/python3.13/site-packages (from anndata>=0.8->scanpy->-r requirements.txt (line 3)) (3.1.1)\r\n",
      "Requirement already satisfied: contourpy>=1.0.1 in ./.venv/lib/python3.13/site-packages (from matplotlib>=3.7.5->scanpy->-r requirements.txt (line 3)) (1.3.3)\r\n",
      "Requirement already satisfied: cycler>=0.10 in ./.venv/lib/python3.13/site-packages (from matplotlib>=3.7.5->scanpy->-r requirements.txt (line 3)) (0.12.1)\r\n",
      "Requirement already satisfied: fonttools>=4.22.0 in ./.venv/lib/python3.13/site-packages (from matplotlib>=3.7.5->scanpy->-r requirements.txt (line 3)) (4.59.0)\r\n",
      "Requirement already satisfied: kiwisolver>=1.3.1 in ./.venv/lib/python3.13/site-packages (from matplotlib>=3.7.5->scanpy->-r requirements.txt (line 3)) (1.4.8)\r\n",
      "Requirement already satisfied: pillow>=8 in ./.venv/lib/python3.13/site-packages (from matplotlib>=3.7.5->scanpy->-r requirements.txt (line 3)) (11.3.0)\r\n",
      "Requirement already satisfied: pyparsing>=2.3.1 in ./.venv/lib/python3.13/site-packages (from matplotlib>=3.7.5->scanpy->-r requirements.txt (line 3)) (3.2.3)\r\n",
      "Requirement already satisfied: python-dateutil>=2.7 in ./.venv/lib/python3.13/site-packages (from matplotlib>=3.7.5->scanpy->-r requirements.txt (line 3)) (2.9.0.post0)\r\n",
      "Requirement already satisfied: llvmlite<0.45,>=0.44.0dev0 in ./.venv/lib/python3.13/site-packages (from numba>=0.57.1->scanpy->-r requirements.txt (line 3)) (0.44.0)\r\n",
      "Requirement already satisfied: pytz>=2020.1 in ./.venv/lib/python3.13/site-packages (from pandas>=1.5.3->scanpy->-r requirements.txt (line 3)) (2025.2)\r\n",
      "Requirement already satisfied: tzdata>=2022.7 in ./.venv/lib/python3.13/site-packages (from pandas>=1.5.3->scanpy->-r requirements.txt (line 3)) (2025.2)\r\n",
      "Requirement already satisfied: threadpoolctl>=3.1.0 in ./.venv/lib/python3.13/site-packages (from scikit-learn>=1.1.3->scanpy->-r requirements.txt (line 3)) (3.6.0)\r\n",
      "Requirement already satisfied: six>=1.5 in ./.venv/lib/python3.13/site-packages (from python-dateutil>=2.7->matplotlib>=3.7.5->scanpy->-r requirements.txt (line 3)) (1.17.0)\r\n",
      "Requirement already satisfied: donfig>=0.8 in ./.venv/lib/python3.13/site-packages (from zarr!=3.0.*,>=2.18.7->anndata>=0.8->scanpy->-r requirements.txt (line 3)) (0.8.1.post1)\r\n",
      "Requirement already satisfied: numcodecs>=0.14 in ./.venv/lib/python3.13/site-packages (from numcodecs[crc32c]>=0.14->zarr!=3.0.*,>=2.18.7->anndata>=0.8->scanpy->-r requirements.txt (line 3)) (0.16.1)\r\n",
      "Requirement already satisfied: typing-extensions>=4.9 in ./.venv/lib/python3.13/site-packages (from zarr!=3.0.*,>=2.18.7->anndata>=0.8->scanpy->-r requirements.txt (line 3)) (4.14.1)\r\n",
      "Requirement already satisfied: pyyaml in ./.venv/lib/python3.13/site-packages (from donfig>=0.8->zarr!=3.0.*,>=2.18.7->anndata>=0.8->scanpy->-r requirements.txt (line 3)) (6.0.2)\r\n",
      "Requirement already satisfied: crc32c>=2.7 in ./.venv/lib/python3.13/site-packages (from numcodecs[crc32c]>=0.14->zarr!=3.0.*,>=2.18.7->anndata>=0.8->scanpy->-r requirements.txt (line 3)) (2.7.1)\r\n",
      "\r\n",
      "\u001B[1m[\u001B[0m\u001B[34;49mnotice\u001B[0m\u001B[1;39;49m]\u001B[0m\u001B[39;49m A new release of pip is available: \u001B[0m\u001B[31;49m24.3.1\u001B[0m\u001B[39;49m -> \u001B[0m\u001B[32;49m25.2\u001B[0m\r\n",
      "\u001B[1m[\u001B[0m\u001B[34;49mnotice\u001B[0m\u001B[1;39;49m]\u001B[0m\u001B[39;49m To update, run: \u001B[0m\u001B[32;49mpip install --upgrade pip\u001B[0m\r\n"
     ]
    }
   ],
   "execution_count": 3
  },
  {
   "metadata": {
    "ExecuteTime": {
     "end_time": "2025-08-11T02:38:58.492133Z",
     "start_time": "2025-08-11T02:34:50.873900Z"
    }
   },
   "cell_type": "code",
   "source": [
    "import requests\n",
    "from tqdm import tqdm\n",
    "import os\n",
    "\n",
    "# File URL and save location\n",
    "url = \"https://datasets.cellxgene.cziscience.com/d25acbe9-9804-48ba-9e40-10beee03eb25.h5ad\"\n",
    "save_dir = \"data/\"\n",
    "filename = \"dataset.h5ad\"\n",
    "\n",
    "# Make sure the directory exists\n",
    "os.makedirs(save_dir, exist_ok=True)\n",
    "filepath = os.path.join(save_dir, filename)\n",
    "\n",
    "# Stream download\n",
    "response = requests.get(url, stream=True)\n",
    "response.raise_for_status()\n",
    "\n",
    "# Total size in bytes\n",
    "total_size = int(response.headers.get(\"Content-Length\", 0))\n",
    "block_size = 1024  # 1 KB\n",
    "\n",
    "# Progress bar\n",
    "with open(filepath, \"wb\") as file, tqdm(\n",
    "    total=total_size, unit=\"B\", unit_scale=True, desc=filename\n",
    ") as progress_bar:\n",
    "    for data in response.iter_content(block_size):\n",
    "        file.write(data)\n",
    "        progress_bar.update(len(data))\n",
    "\n",
    "print(f\"Download complete: {filepath}\")"
   ],
   "id": "12721c45838ca528",
   "outputs": [
    {
     "name": "stderr",
     "output_type": "stream",
     "text": [
      "dataset.h5ad: 100%|██████████| 6.51G/6.51G [04:05<00:00, 26.5MB/s]  "
     ]
    },
    {
     "name": "stdout",
     "output_type": "stream",
     "text": [
      "Download complete: data/dataset.h5ad\n"
     ]
    },
    {
     "name": "stderr",
     "output_type": "stream",
     "text": [
      "\n"
     ]
    }
   ],
   "execution_count": 4
  },
  {
   "metadata": {
    "ExecuteTime": {
     "end_time": "2025-08-11T02:40:51.223127Z",
     "start_time": "2025-08-11T02:38:58.741704Z"
    }
   },
   "cell_type": "code",
   "source": [
    "import scanpy as sc\n",
    "\n",
    "# Load the file\n",
    "adata = sc.read_h5ad(\"data/dataset.h5ad\")"
   ],
   "id": "8406aec359bb0840",
   "outputs": [],
   "execution_count": 5
  },
  {
   "metadata": {
    "ExecuteTime": {
     "end_time": "2025-08-11T02:40:52.780942Z",
     "start_time": "2025-08-11T02:40:52.685981Z"
    }
   },
   "cell_type": "code",
   "source": [
    "diseased = adata.obs[adata.obs[\"disease\"] == \"Alzheimer disease\"]\n",
    "normal = adata.obs[adata.obs[\"disease\"] != \"Alzheimer disease\"]\n",
    "print(f\"number of diseased samples: {diseased.shape[0]}\")\n",
    "print(f\"number of normal samples: {normal.shape[0]}\")"
   ],
   "id": "52636aa063ff602c",
   "outputs": [
    {
     "name": "stdout",
     "output_type": "stream",
     "text": [
      "number of diseased samples: 310773\n",
      "number of normal samples: 113755\n"
     ]
    }
   ],
   "execution_count": 6
  },
  {
   "metadata": {
    "ExecuteTime": {
     "end_time": "2025-08-11T02:40:53.254312Z",
     "start_time": "2025-08-11T02:40:52.945259Z"
    }
   },
   "cell_type": "code",
   "source": [
    "import matplotlib.pyplot as plt\n",
    "\n",
    "total_size = diseased.shape[0] + normal.shape[0]\n",
    "diseased_percent = diseased.shape[0] / total_size\n",
    "normal_percent = normal.shape[0] / total_size\n",
    "plt.figure(figsize=(3,3))\n",
    "plt.pie([normal_percent, diseased_percent], labels=[\"normal\", \"diseased\"], autopct='%1.1f%%')\n",
    "\n",
    "plt.title(\"Diseased to normal ratio\")\n",
    "plt.show()"
   ],
   "id": "ccac8d4db5063a11",
   "outputs": [
    {
     "data": {
      "text/plain": [
       "<Figure size 300x300 with 1 Axes>"
      ],
      "image/png": "[encoded data removed]"
     },
     "metadata": {},
     "output_type": "display_data"
    }
   ],
   "execution_count": 7
  },
  {
   "metadata": {},
   "cell_type": "code",
   "outputs": [],
   "execution_count": null,
   "source": [
    "import pandas as pd\n",
    "\n",
    "cell_type = \"microglial cell\"\n",
    "results = {}\n",
    "\n",
    "for name,data in [(\"diseased\", diseased), (\"normal\", normal)]:\n",
    "\n",
    "    cell = data[data[\"cell_type\"] == cell_type]\n",
    "    cell_names = list(cell.index)\n",
    "    ids = adata.obs_names.get_indexer(cell_names)\n",
    "\n",
    "    df = pd.DataFrame(adata.X[ids].toarray(), columns = adata.var.feature_name)\n",
    "    mean_expression = df.mean(axis=0)\n",
    "\n",
    "    expression_to_gene = {v:k for k,v in mean_expression.items()}\n",
    "    sorted_expression = sorted(expression_to_gene.keys(), reverse=True)\n",
    "\n",
    "    genes = []\n",
    "    for i in range(10):\n",
    "        genes.append(expression_to_gene[sorted_expression[i]])\n",
    "\n",
    "    results[name] = genes\n",
    "\n",
    "pd.DataFrame(results)"
   ],
   "id": "3adff48239c2db74"
  },
  {
   "metadata": {
    "jupyter": {
     "is_executing": true
    },
    "ExecuteTime": {
     "start_time": "2025-08-11T03:15:08.701893Z"
    }
   },
   "cell_type": "code",
   "source": [
    "import scanpy as sc\n",
    "\n",
    "sc.pp.neighbors(adata)  # Compute the neighborhood graph\n",
    "sc.tl.umap(adata)"
   ],
   "id": "5b4bdfb77c7e2691",
   "outputs": [],
   "execution_count": null
  }
 ],
 "metadata": {
  "kernelspec": {
   "display_name": "Python 3",
   "language": "python",
   "name": "python3"
  },
  "language_info": {
   "codemirror_mode": {
    "name": "ipython",
    "version": 2
   },
   "file_extension": ".py",
   "mimetype": "text/x-python",
   "name": "python",
   "nbconvert_exporter": "python",
   "pygments_lexer": "ipython2",
   "version": "2.7.6"
  }
 },
 "nbformat": 4,
 "nbformat_minor": 5
}
